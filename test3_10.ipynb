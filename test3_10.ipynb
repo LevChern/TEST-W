{
  "nbformat": 4,
  "nbformat_minor": 0,
  "metadata": {
    "colab": {
      "provenance": [],
      "authorship_tag": "ABX9TyMirGVs5YURV5v8ypPtCCda",
      "include_colab_link": true
    },
    "kernelspec": {
      "name": "python3",
      "display_name": "Python 3"
    },
    "language_info": {
      "name": "python"
    }
  },
  "cells": [
    {
      "cell_type": "markdown",
      "metadata": {
        "id": "view-in-github",
        "colab_type": "text"
      },
      "source": [
        "<a href=\"https://colab.research.google.com/github/LevChern/TEST-W/blob/master/test3_10.ipynb\" target=\"_parent\"><img src=\"https://colab.research.google.com/assets/colab-badge.svg\" alt=\"Open In Colab\"/></a>"
      ]
    },
    {
      "cell_type": "code",
      "source": [
        "import os\n",
        "p = os.getcwd()\n",
        "print(p)\n",
        "f = open(\"file1.txt\",\"w\")\n",
        "f.write(\"1111\\n\")\n",
        "f.write(\"33\\n\")\n",
        "f.write(\"222\")\n",
        "f.close()\n",
        "\n",
        "f = open(\"file1.txt\")\n",
        "nmax = 0\n",
        "nmin = 10000\n",
        "for line in f:\n",
        "  k = len(line)\n",
        "  if k>nmax:\n",
        "    nmax = k\n",
        "  if k<nmin:\n",
        "    nmin = k\n",
        "    \n",
        "print('min='+str(nmin)+' max='+str(nmax))"
      ],
      "metadata": {
        "id": "Yx2TnnSnfmW0",
        "colab": {
          "base_uri": "https://localhost:8080/"
        },
        "outputId": "1617e0fd-e513-4612-ecd8-86bbe084ca15"
      },
      "execution_count": 5,
      "outputs": [
        {
          "output_type": "stream",
          "name": "stdout",
          "text": [
            "/root\n",
            "min=3 max=5\n"
          ]
        }
      ]
    },
    {
      "cell_type": "code",
      "source": [
        "%cd\n"
      ],
      "metadata": {
        "id": "kTJN6bfQn1xQ",
        "outputId": "2c3c561e-8969-46fe-8a8c-ef475b564646",
        "colab": {
          "base_uri": "https://localhost:8080/"
        }
      },
      "execution_count": 2,
      "outputs": [
        {
          "output_type": "stream",
          "name": "stdout",
          "text": [
            "/root\n"
          ]
        }
      ]
    },
    {
      "cell_type": "code",
      "source": [],
      "metadata": {
        "id": "eQSs7Qwwk3-j"
      },
      "execution_count": null,
      "outputs": []
    },
    {
      "cell_type": "code",
      "source": [
        "#Выполнил Вакуленко Михаил \n",
        "#задача номер 6\n",
        "#напишите функцию которая принимает список коэффициентов многочлена значение аргумента \n",
        "#X и вычисляет значение многочлена(использовать встроенные функции map() и reduce())\n",
        "\n",
        "from functools import reduce \n",
        "def schet(chisla,x):\n",
        " for i in range(len(chisla)):\n",
        "   chisla[i]=chisla[i]*x**(i+1)\n",
        " return chisla \n",
        "\n",
        "print(\"введите список коэф многочлена\")\n",
        "chisla=list(map(int,input().split()))\n",
        "print (\"введите значение аргумента x:\")\n",
        "x=int(input())\n",
        "otvet=schet(chisla,x)\n",
        "final=reduce(lamoda a,d;a+b,otvet)\n",
        "print(\"значение многочлена\") \n"
      ],
      "metadata": {
        "colab": {
          "base_uri": "https://localhost:8080/",
          "height": 130
        },
        "id": "pgKInqZEhfvj",
        "outputId": "85529a40-f1f6-4ba5-8b8e-e7525261afca"
      },
      "execution_count": null,
      "outputs": [
        {
          "output_type": "error",
          "ename": "SyntaxError",
          "evalue": "ignored",
          "traceback": [
            "\u001b[0;36m  File \u001b[0;32m\"<ipython-input-4-1ebd81eec5d5>\"\u001b[0;36m, line \u001b[0;32m17\u001b[0m\n\u001b[0;31m    final=reduce(lamoda a,d;a+b,otvet)\u001b[0m\n\u001b[0m                        ^\u001b[0m\n\u001b[0;31mSyntaxError\u001b[0m\u001b[0;31m:\u001b[0m invalid syntax\n"
          ]
        }
      ]
    },
    {
      "cell_type": "code",
      "source": [],
      "metadata": {
        "id": "Pyfi-ab9nhG8"
      },
      "execution_count": null,
      "outputs": []
    },
    {
      "cell_type": "code",
      "source": [
        "#20.Написать функцию, которая  удаляет из числового списка отрицательные значения, для которых имеется положительное значение с той же абсолютной величиной.\n",
        "def DelOtr(b):\n",
        "   for i in range(len(b)):\n",
        "       if b[i] < 0:\n",
        "           if abs(b[i]) in b:\n",
        "               b.remove(b[i])\n",
        "   return b\n",
        "\n",
        "b = list(map(int, input().split()))\n",
        "print(b)\n",
        "print(DelOtr(b))\n"
      ],
      "metadata": {
        "colab": {
          "base_uri": "https://localhost:8080/",
          "height": 356
        },
        "id": "WEEWt33tia21",
        "outputId": "873e7e76-60ae-49ac-8e62-cd67e5cf43a3"
      },
      "execution_count": null,
      "outputs": [
        {
          "output_type": "stream",
          "name": "stdout",
          "text": [
            "1 2 -1 2 3 4 -5\n",
            "[1, 2, -1, 2, 3, 4, -5]\n"
          ]
        },
        {
          "output_type": "error",
          "ename": "IndexError",
          "evalue": "ignored",
          "traceback": [
            "\u001b[0;31m---------------------------------------------------------------------------\u001b[0m",
            "\u001b[0;31mIndexError\u001b[0m                                Traceback (most recent call last)",
            "\u001b[0;32m<ipython-input-3-8513586c6a45>\u001b[0m in \u001b[0;36m<module>\u001b[0;34m\u001b[0m\n\u001b[1;32m      9\u001b[0m \u001b[0mb\u001b[0m \u001b[0;34m=\u001b[0m \u001b[0mlist\u001b[0m\u001b[0;34m(\u001b[0m\u001b[0mmap\u001b[0m\u001b[0;34m(\u001b[0m\u001b[0mint\u001b[0m\u001b[0;34m,\u001b[0m \u001b[0minput\u001b[0m\u001b[0;34m(\u001b[0m\u001b[0;34m)\u001b[0m\u001b[0;34m.\u001b[0m\u001b[0msplit\u001b[0m\u001b[0;34m(\u001b[0m\u001b[0;34m)\u001b[0m\u001b[0;34m)\u001b[0m\u001b[0;34m)\u001b[0m\u001b[0;34m\u001b[0m\u001b[0;34m\u001b[0m\u001b[0m\n\u001b[1;32m     10\u001b[0m \u001b[0mprint\u001b[0m\u001b[0;34m(\u001b[0m\u001b[0mb\u001b[0m\u001b[0;34m)\u001b[0m\u001b[0;34m\u001b[0m\u001b[0;34m\u001b[0m\u001b[0m\n\u001b[0;32m---> 11\u001b[0;31m \u001b[0mprint\u001b[0m\u001b[0;34m(\u001b[0m\u001b[0mDelOtr\u001b[0m\u001b[0;34m(\u001b[0m\u001b[0mb\u001b[0m\u001b[0;34m)\u001b[0m\u001b[0;34m)\u001b[0m\u001b[0;34m\u001b[0m\u001b[0;34m\u001b[0m\u001b[0m\n\u001b[0m",
            "\u001b[0;32m<ipython-input-3-8513586c6a45>\u001b[0m in \u001b[0;36mDelOtr\u001b[0;34m(b)\u001b[0m\n\u001b[1;32m      2\u001b[0m \u001b[0;32mdef\u001b[0m \u001b[0mDelOtr\u001b[0m\u001b[0;34m(\u001b[0m\u001b[0mb\u001b[0m\u001b[0;34m)\u001b[0m\u001b[0;34m:\u001b[0m\u001b[0;34m\u001b[0m\u001b[0;34m\u001b[0m\u001b[0m\n\u001b[1;32m      3\u001b[0m    \u001b[0;32mfor\u001b[0m \u001b[0mi\u001b[0m \u001b[0;32min\u001b[0m \u001b[0mrange\u001b[0m\u001b[0;34m(\u001b[0m\u001b[0mlen\u001b[0m\u001b[0;34m(\u001b[0m\u001b[0mb\u001b[0m\u001b[0;34m)\u001b[0m\u001b[0;34m)\u001b[0m\u001b[0;34m:\u001b[0m\u001b[0;34m\u001b[0m\u001b[0;34m\u001b[0m\u001b[0m\n\u001b[0;32m----> 4\u001b[0;31m        \u001b[0;32mif\u001b[0m \u001b[0mb\u001b[0m\u001b[0;34m[\u001b[0m\u001b[0mi\u001b[0m\u001b[0;34m]\u001b[0m \u001b[0;34m<\u001b[0m \u001b[0;36m0\u001b[0m\u001b[0;34m:\u001b[0m\u001b[0;34m\u001b[0m\u001b[0;34m\u001b[0m\u001b[0m\n\u001b[0m\u001b[1;32m      5\u001b[0m            \u001b[0;32mif\u001b[0m \u001b[0mabs\u001b[0m\u001b[0;34m(\u001b[0m\u001b[0mb\u001b[0m\u001b[0;34m[\u001b[0m\u001b[0mi\u001b[0m\u001b[0;34m]\u001b[0m\u001b[0;34m)\u001b[0m \u001b[0;32min\u001b[0m \u001b[0mb\u001b[0m\u001b[0;34m:\u001b[0m\u001b[0;34m\u001b[0m\u001b[0;34m\u001b[0m\u001b[0m\n\u001b[1;32m      6\u001b[0m                \u001b[0mb\u001b[0m\u001b[0;34m.\u001b[0m\u001b[0mremove\u001b[0m\u001b[0;34m(\u001b[0m\u001b[0mb\u001b[0m\u001b[0;34m[\u001b[0m\u001b[0mi\u001b[0m\u001b[0;34m]\u001b[0m\u001b[0;34m)\u001b[0m\u001b[0;34m\u001b[0m\u001b[0;34m\u001b[0m\u001b[0m\n",
            "\u001b[0;31mIndexError\u001b[0m: list index out of range"
          ]
        }
      ]
    },
    {
      "cell_type": "code",
      "source": [],
      "metadata": {
        "id": "4wDPbCrUyaSe"
      },
      "execution_count": null,
      "outputs": []
    },
    {
      "cell_type": "code",
      "source": [],
      "metadata": {
        "id": "UVfXRfAEtWrJ"
      },
      "execution_count": null,
      "outputs": []
    },
    {
      "cell_type": "code",
      "source": [
        "DP ={\"p1\": {\"t1\":10,\"t2\":5}, \"p2\":{\"t1\":3}  }  #  rgrew\n",
        "print(DP)\n",
        "\n",
        "def addT(name,tov,count):\n",
        "  global DUP\n",
        "  DP[name][tov]=DP[name][tov]+count  \n",
        "  return\n",
        "\n",
        "\n",
        "addT(\"p1\",\"t1\",2) \n",
        "print(DP) \n",
        "\n",
        "\n"
      ],
      "metadata": {
        "colab": {
          "base_uri": "https://localhost:8080/"
        },
        "id": "Y36eIA1ktXIC",
        "outputId": "75491980-2f01-42a1-822e-70dc47a3a0dd"
      },
      "execution_count": null,
      "outputs": [
        {
          "output_type": "stream",
          "name": "stdout",
          "text": [
            "{'p1': {'t1': 10, 't2': 5}, 'p2': {'t1': 3}}\n",
            "{'p1': {'t1': 12, 't2': 5}, 'p2': {'t1': 3}}\n"
          ]
        }
      ]
    },
    {
      "cell_type": "code",
      "source": [
        "from turtle import *\n",
        "from math import *\n",
        "import math\n",
        "a = float(input(\"enter the value for a: \"))\n",
        "b = float(input(\"enter the value for b: \"))\n",
        "c = float(input(\"enter the value for c: \"))\n",
        "if (a + b >= c) and (b + c >= a) and (c + a >= b):\n",
        "   print(\"it's a triangle\")\n",
        "   A = degrees(acos((b**2 + c**2 - a**2)/(2*b*c)))\n",
        "   B = degrees(acos((c ** 2 + a ** 2 - b ** 2) / (2 * c * a)))\n",
        "   C = degrees(acos((a ** 2 + b ** 2 - c ** 2) / (2 * a * b)))\n",
        "   print(A, B, C)\n",
        "else:\n",
        "   print(\"it's not a triangle\")"
      ],
      "metadata": {
        "colab": {
          "base_uri": "https://localhost:8080/"
        },
        "id": "Bt0D7g9GzS2x",
        "outputId": "ed971b4d-38c6-4c0c-9454-a9d40e5ff57e"
      },
      "execution_count": null,
      "outputs": [
        {
          "output_type": "stream",
          "name": "stdout",
          "text": [
            "enter the value for a: 3\n",
            "enter the value for b: 4\n",
            "enter the value for c: 5\n",
            "it's a triangle\n",
            "36.86989764584401 53.13010235415599 90.0\n"
          ]
        }
      ]
    },
    {
      "cell_type": "code",
      "source": [
        "s1 = {1,3,4}\n",
        "s2 = {5,7,8,9}\n",
        "s3 = {10,11,2}\n",
        "ms = [s1,s2,s3]\n",
        "\n",
        "def fs(m):\n",
        "  res = {0}.clear()\n",
        "  for s in m:\n",
        "    print(s)\n",
        "    res.update(s)\n",
        "  return res\n",
        "  \n",
        "z = fs(ms)\n",
        "print(z)\n"
      ],
      "metadata": {
        "colab": {
          "base_uri": "https://localhost:8080/",
          "height": 356
        },
        "id": "pKcp-dK_L0yN",
        "outputId": "3551eed2-810b-4737-8569-19497aa5995f"
      },
      "execution_count": null,
      "outputs": [
        {
          "output_type": "stream",
          "name": "stdout",
          "text": [
            "{1, 3, 4}\n"
          ]
        },
        {
          "output_type": "error",
          "ename": "AttributeError",
          "evalue": "ignored",
          "traceback": [
            "\u001b[0;31m---------------------------------------------------------------------------\u001b[0m",
            "\u001b[0;31mAttributeError\u001b[0m                            Traceback (most recent call last)",
            "\u001b[0;32m<ipython-input-20-48e2ca12b65b>\u001b[0m in \u001b[0;36m<module>\u001b[0;34m\u001b[0m\n\u001b[1;32m     11\u001b[0m   \u001b[0;32mreturn\u001b[0m \u001b[0mres\u001b[0m\u001b[0;34m\u001b[0m\u001b[0;34m\u001b[0m\u001b[0m\n\u001b[1;32m     12\u001b[0m \u001b[0;34m\u001b[0m\u001b[0m\n\u001b[0;32m---> 13\u001b[0;31m \u001b[0mz\u001b[0m \u001b[0;34m=\u001b[0m \u001b[0mfs\u001b[0m\u001b[0;34m(\u001b[0m\u001b[0mms\u001b[0m\u001b[0;34m)\u001b[0m\u001b[0;34m\u001b[0m\u001b[0;34m\u001b[0m\u001b[0m\n\u001b[0m\u001b[1;32m     14\u001b[0m \u001b[0mprint\u001b[0m\u001b[0;34m(\u001b[0m\u001b[0mz\u001b[0m\u001b[0;34m)\u001b[0m\u001b[0;34m\u001b[0m\u001b[0;34m\u001b[0m\u001b[0m\n",
            "\u001b[0;32m<ipython-input-20-48e2ca12b65b>\u001b[0m in \u001b[0;36mfs\u001b[0;34m(m)\u001b[0m\n\u001b[1;32m      8\u001b[0m   \u001b[0;32mfor\u001b[0m \u001b[0ms\u001b[0m \u001b[0;32min\u001b[0m \u001b[0mm\u001b[0m\u001b[0;34m:\u001b[0m\u001b[0;34m\u001b[0m\u001b[0;34m\u001b[0m\u001b[0m\n\u001b[1;32m      9\u001b[0m     \u001b[0mprint\u001b[0m\u001b[0;34m(\u001b[0m\u001b[0ms\u001b[0m\u001b[0;34m)\u001b[0m\u001b[0;34m\u001b[0m\u001b[0;34m\u001b[0m\u001b[0m\n\u001b[0;32m---> 10\u001b[0;31m     \u001b[0mres\u001b[0m\u001b[0;34m.\u001b[0m\u001b[0mupdate\u001b[0m\u001b[0;34m(\u001b[0m\u001b[0ms\u001b[0m\u001b[0;34m)\u001b[0m\u001b[0;34m\u001b[0m\u001b[0;34m\u001b[0m\u001b[0m\n\u001b[0m\u001b[1;32m     11\u001b[0m   \u001b[0;32mreturn\u001b[0m \u001b[0mres\u001b[0m\u001b[0;34m\u001b[0m\u001b[0;34m\u001b[0m\u001b[0m\n\u001b[1;32m     12\u001b[0m \u001b[0;34m\u001b[0m\u001b[0m\n",
            "\u001b[0;31mAttributeError\u001b[0m: 'NoneType' object has no attribute 'update'"
          ]
        }
      ]
    },
    {
      "cell_type": "code",
      "source": [],
      "metadata": {
        "id": "TQq5LpVjsSjQ"
      },
      "execution_count": null,
      "outputs": []
    }
  ]
}